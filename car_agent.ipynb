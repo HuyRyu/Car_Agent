{
 "cells": [
  {
   "cell_type": "code",
   "execution_count": null,
   "metadata": {},
   "outputs": [],
   "source": [
    "import json\n",
    "from process_data import get_car_type, get_price_range\n",
    "from crawler import VnexpressCrawler\n",
    "vnexpress_crawler = VnexpressCrawler(url=\"https://vnexpress.net/oto-xe-may/v-car/\", base_url=\"https://vnexpress.net\")\n",
    "car_info = vnexpress_crawler.get_data()\n",
    "car_info[\"car_type\"] = get_car_type(car_info)\n",
    "car_info[\"listed_price\"].extend(get_price_range(car_info))\n",
    "\n",
    "\n",
    "with open(\"car_info.json\", \"w\", encoding='utf-8') as f:\n",
    "    json.dump(car_info, f, ensure_ascii=False, indent=4)"
   ]
  },
  {
   "cell_type": "code",
   "execution_count": null,
   "metadata": {},
   "outputs": [],
   "source": [
    "import json\n",
    "with open(\"car_info.json\", \"r\", encoding='utf-8') as f:\n",
    "    car_info = json.load(f)"
   ]
  },
  {
   "cell_type": "code",
   "execution_count": null,
   "metadata": {},
   "outputs": [],
   "source": [
    "from llama_index.core import Document, SummaryIndex\n",
    "\n",
    "listed_documents = [Document(text=json.dumps(info[\"content\"], ensure_ascii=False), metadata=info[\"metadata\"]) for info in car_info[\"listed_price\"]]\n",
    "detail_info_documents = [Document(text=json.dumps(info[\"content\"], ensure_ascii=False), metadata=info[\"metadata\"]) for info in car_info[\"detail_infomation\"]]\n",
    "technical_detail_documents = [Document(text=json.dumps(info[\"content\"], ensure_ascii=False), metadata=info[\"metadata\"]) for info in car_info[\"technical_detail\"]]\n",
    "car_inventory_documents = [Document(text=json.dumps(info[\"content\"], ensure_ascii=False), metadata=info[\"metadata\"]) for info in car_info[\"car_inventory_by_brand\"]]\n",
    "car_type_documents = [Document(text=json.dumps(info[\"content\"], ensure_ascii=False), metadata=info[\"metadata\"]) for info in car_info[\"car_type\"]]\n",
    "\n",
    "\n"
   ]
  },
  {
   "cell_type": "code",
   "execution_count": null,
   "metadata": {},
   "outputs": [],
   "source": [
    "listed_documents[0]"
   ]
  },
  {
   "cell_type": "markdown",
   "metadata": {},
   "source": [
    "# Store vector index"
   ]
  },
  {
   "cell_type": "code",
   "execution_count": null,
   "metadata": {},
   "outputs": [],
   "source": [
    "import openai\n",
    "from llama_index.core import VectorStoreIndex, StorageContext\n",
    "from llama_index.vector_stores.chroma import ChromaVectorStore\n",
    "from llama_index.llms.openai import OpenAI\n",
    "from llama_index.embeddings.openai import OpenAIEmbedding\n",
    "import chromadb\n",
    "import os\n",
    "\n",
    "openai.api_key = os.environ.get(\"OPENAI_API_KEY\", \"\")\n",
    "\n",
    "def save_vector_index(documents, path: str=\"./chroma_db\", collection_name: str=\"vnexpress_car_info\"):\n",
    "    # initialize client, setting path to save data\n",
    "    db = chromadb.PersistentClient(path=path)\n",
    "    # create collection\n",
    "    chroma_collection = db.get_or_create_collection(collection_name)\n",
    "\n",
    "    # assign chroma as the vector_store to the context\n",
    "    vector_store = ChromaVectorStore(chroma_collection=chroma_collection)\n",
    "    storage_context = StorageContext.from_defaults(vector_store=vector_store)\n",
    "\n",
    "\n",
    "    embedding = OpenAIEmbedding(name=\"text-embedding-3-small\")\n",
    "    vector_tool = VectorStoreIndex.from_documents(documents, storage_context=storage_context, embedding=embedding)\n",
    "\n",
    "# save_vector_index(listed_documents, path=\"./chroma_db\", collection_name=\"vnexpress_car_listed_price\")\n",
    "# save_vector_index(technical_detail_documents, path=\"./chroma_db\", collection_name=\"vnexpress_car_technical_detail\")\n",
    "# save_vector_index(detail_info_documents, path=\"./chroma_db\", collection_name=\"vnexpress_car_info_detail\")\n",
    "# save_vector_index(car_inventory_documents, path=\"./chroma_db\", collection_name=\"vnexpress_car_inventory\")\n",
    "save_vector_index(car_type_documents, path=\"./chroma_db\", collection_name=\"vnexpress_car_type\")"
   ]
  },
  {
   "cell_type": "code",
   "execution_count": null,
   "metadata": {},
   "outputs": [],
   "source": [
    "from query_tool import VnExpressTool\n",
    "# from search_tool import BonBanhCarPrice\n",
    "import openai\n",
    "from selenium import webdriver\n",
    "from selenium.webdriver.common.keys import Keys\n",
    "from selenium.webdriver.common.by import By\n",
    "from selenium.webdriver.chrome.options import Options\n",
    "import numpy as np\n",
    "import time\n",
    "from typing import Tuple, Dict\n",
    "from utils import get_page_soup\n",
    "from llama_index.core.tools import FunctionTool\n",
    "\n",
    "class GoogleSearch():\n",
    "    def __init__(self) -> None:\n",
    "        options = Options()\n",
    "        options.headless = True\n",
    "        self.driver = webdriver.Chrome(options=options)\n",
    "        self.driver.get(\"https://www.google.com\")\n",
    "    \n",
    "    def search(self, search_query: str):\n",
    "        search_box = self.driver.find_element(By.NAME, \"q\")\n",
    "        search_box.send_keys(search_query)\n",
    "        search_box.send_keys(Keys.RETURN)\n",
    "        time.sleep(2)\n",
    "        search_results = self.driver.find_elements(By.CSS_SELECTOR, \"div.g\")\n",
    "        return search_results\n",
    "        \n",
    "class BonBanhCarPrice():\n",
    "    def __init__(self) -> None:\n",
    "        self.tool = FunctionTool.from_defaults(fn=self.get_old_price)\n",
    "        self.base_url = \"https://bonbanh.com/\"\n",
    "\n",
    "    def _get_old_price_from_bonbanh(self, url: str) -> Tuple[int, int]:\n",
    "        soup = get_page_soup(url)\n",
    "        price_soup = soup.find_all(\"b\", itemprop='price')\n",
    "        car_items = soup.find_all(class_=re.compile(r'\\bcar-item\\b'))\n",
    "        metadata_link = []\n",
    "        for car_item in car_items:\n",
    "            car_url = car_item.find(\"a\", href=True).get(\"href\").lower()\n",
    "            car_url = self.base_url + car_url\n",
    "            metadata_link.append(car_url)\n",
    "        car_price = []\n",
    "        for price in price_soup:\n",
    "            price = price.get_text().lower()\n",
    "            if \"tỷ\" in price:\n",
    "                car_price.append(float(price.replace(\" tỷ \", \".\").replace(\"triệu\", \"\").strip()) * 1e9)\n",
    "            elif \"triệu\" in price:\n",
    "                car_price.append(float(price.split(\" \")[0]) * 1e6)\n",
    "        q1 = int(np.quantile(car_price, 0.25))\n",
    "        q2 = int(np.quantile(car_price, 0.75))\n",
    "        return {\"price_range\": [q1, q2], \"metadata_link\": metadata_link}\n",
    "\n",
    "    def get_old_price(self, query: str) -> Dict:\n",
    "        \"get old car price from bonbanh.com\"\n",
    "        search_tool = GoogleSearch()\n",
    "        search_results = search_tool.search(query + \" bonbanh\")\n",
    "        price_range = (None, None)\n",
    "        for index, result in enumerate(search_results, start=1):\n",
    "            link_element = result.find_element(By.TAG_NAME, \"a\")\n",
    "            link = link_element.get_attribute(\"href\")\n",
    "            print(link)\n",
    "            if \"bonbanh\" not in link:\n",
    "                continue\n",
    "            price_range = self._get_old_price_from_bonbanh(link)\n",
    "            break\n",
    "        search_tool.driver.quit()\n",
    "        return price_range\n",
    "\n",
    "\n",
    "listed_price_tool = VnExpressTool(tool_name=\"listed_price_car\", \n",
    "                                  description=\"Cung cấp thông tin giá niêm yết của các mẫu xe hơi hiện tại ở Việt Nam\",\n",
    "                                  collection_name=\"vnexpress_car_listed_price\")\n",
    "info_detail_tool = VnExpressTool(tool_name=\"car_info_detail\", \n",
    "                                 description=\"Cung cấp mô tả và đánh giá chi tiết của các mẫu xe hơi hiện tại ở Việt Nam\",\n",
    "                                 collection_name=\"vnexpress_car_info_detail\")\n",
    "technical_detail_tool = VnExpressTool(tool_name=\"car_technical_detail\", \n",
    "                                      description=\"Cung cấp thông số kỹ thuật của các mẫu xe hơi hiện tại ở Việt Nam\",\n",
    "                                      collection_name=\"vnexpress_car_technical_detail\")\n",
    "car_inventory_tool = VnExpressTool(tool_name=\"car_inventory\",\n",
    "                                      description=\"Cung cấp danh sách xe của một thương hiệu xe hơi hiện tại ở Việt Nam\",\n",
    "                                      collection_name=\"vnexpress_car_inventory\")\n",
    "\n",
    "car_type_tool = VnExpressTool(tool_name=\"car_type\",\n",
    "                                      description=\"Cung cấp danh sách các loại xe hơi hiện cho một kiểu xe hơi cụ thể (SUV, Sedan, Hatchback, ...) ở Việt Nam\",\n",
    "                                      collection_name=\"vnexpress_car_type\")                                      \n",
    "\n",
    "old_car_price = BonBanhCarPrice()\n"
   ]
  },
  {
   "cell_type": "code",
   "execution_count": null,
   "metadata": {},
   "outputs": [],
   "source": [
    "from llama_index.agent.openai import OpenAIAgent, advanced_tool_call_parser\n",
    "from llama_index.core.agent import ReActAgent, AgentChatResponse\n",
    "from llama_index.llms.openai import OpenAI\n",
    "\n",
    "llm = OpenAI(model=\"gpt-4o-mini\")\n",
    "agent = OpenAIAgent.from_tools([listed_price_tool.tool, info_detail_tool.tool, technical_detail_tool.tool, old_car_price.tool, car_type_tool.tool], llm=llm, verbose=True, tool_call_parser=advanced_tool_call_parser)\n"
   ]
  },
  {
   "cell_type": "code",
   "execution_count": null,
   "metadata": {},
   "outputs": [],
   "source": [
    "agent.chat(\"giá xe toyota vios cũ\")"
   ]
  },
  {
   "cell_type": "code",
   "execution_count": null,
   "metadata": {},
   "outputs": [],
   "source": []
  }
 ],
 "metadata": {
  "kernelspec": {
   "display_name": "Python 3.12.5 64-bit",
   "language": "python",
   "name": "python3"
  },
  "language_info": {
   "codemirror_mode": {
    "name": "ipython",
    "version": 3
   },
   "file_extension": ".py",
   "mimetype": "text/x-python",
   "name": "python",
   "nbconvert_exporter": "python",
   "pygments_lexer": "ipython3",
   "version": "3.12.5"
  },
  "orig_nbformat": 4,
  "vscode": {
   "interpreter": {
    "hash": "aee8b7b246df8f9039afb4144a1f6fd8d2ca17a180786b69acc140d282b71a49"
   }
  }
 },
 "nbformat": 4,
 "nbformat_minor": 2
}
